{
 "cells": [
  {
   "cell_type": "code",
   "execution_count": null,
   "id": "bab015f8",
   "metadata": {
    "vscode": {
     "languageId": "plaintext"
    }
   },
   "outputs": [],
   "source": [
    "import pandas as pd\n",
    "import matplotlib.pyplot as plt\n",
    "import seaborn as sns\n",
    "\n",
    "# Load the dataset\n",
    "df = pd.read_csv(\"Traffic.csv\")\n",
    "\n",
    "# Show basic info and drop missing values\n",
    "print(df.info())\n",
    "df = df.dropna()\n",
    "\n",
    "# Top 10 accident hotspots (if location available)\n",
    "if 'Location' in df.columns:\n",
    "    plt.figure(figsize=(10, 5))\n",
    "    df['Location'].value_counts().head(10).plot(kind='bar')\n",
    "    plt.title('Top 10 Accident Hotspots')\n",
    "    plt.xlabel('Location')\n",
    "    plt.ylabel('Number of Accidents')\n",
    "    plt.xticks(rotation=45)\n",
    "    plt.tight_layout()\n",
    "    plt.show()\n",
    "\n",
    "# Accidents by road condition\n",
    "if 'Road_Conditions' in df.columns:\n",
    "    plt.figure(figsize=(8, 4))\n",
    "    sns.countplot(data=df, x='Road_Conditions', order=df['Road_Conditions'].value_counts().index, palette='coolwarm')\n",
    "    plt.title('Accidents by Road Condition')\n",
    "    plt.xlabel('Road Condition')\n",
    "    plt.ylabel('Accident Count')\n",
    "    plt.xticks(rotation=45)\n",
    "    plt.tight_layout()\n",
    "    plt.show()\n",
    "\n",
    "# Accidents by weather condition (optional)\n",
    "if 'Weather_Conditions' in df.columns:\n",
    "    plt.figure(figsize=(8, 4))\n",
    "    sns.countplot(data=df, x='Weather_Conditions', order=df['Weather_Conditions'].value_counts().index, palette='Set2')\n",
    "    plt.title('Accidents by Weather Condition')\n",
    "    plt.xlabel('Weather Condition')\n",
    "    plt.ylabel('Accident Count')\n",
    "    plt.xticks(rotation=45)\n",
    "    plt.tight_layout()\n",
    "    plt.show()\n"
   ]
  },
  {
   "cell_type": "code",
   "execution_count": null,
   "id": "3468d7e0",
   "metadata": {},
   "outputs": [],
   "source": []
  }
 ],
 "metadata": {
  "language_info": {
   "name": "python"
  }
 },
 "nbformat": 4,
 "nbformat_minor": 5
}
